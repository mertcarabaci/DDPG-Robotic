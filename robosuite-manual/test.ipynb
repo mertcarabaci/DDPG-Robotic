{
 "cells": [
  {
   "cell_type": "code",
   "execution_count": 2,
   "metadata": {},
   "outputs": [
    {
     "name": "stderr",
     "output_type": "stream",
     "text": [
      "\u001b[1m\u001b[33m[robosuite WARNING] \u001b[0mNo private macro file found! (macros.py:53)\n",
      "\u001b[1m\u001b[33m[robosuite WARNING] \u001b[0mIt is recommended to use a private macro file (macros.py:54)\n",
      "\u001b[1m\u001b[33m[robosuite WARNING] \u001b[0mTo setup, run: python /Library/Frameworks/Python.framework/Versions/3.11/lib/python3.11/site-packages/robosuite/scripts/setup_macros.py (macros.py:55)\n"
     ]
    }
   ],
   "source": [
    "import numpy as np\n",
    "import gymnasium as gym\n",
    "import robosuite as suite\n",
    "from robosuite.controllers import load_controller_config\n",
    "from robosuite.controllers import controller_factory\n",
    "from robosuite.wrappers.gym_wrapper import GymWrapper"
   ]
  },
  {
   "cell_type": "code",
   "execution_count": 445,
   "metadata": {},
   "outputs": [],
   "source": [
    "env = GymWrapper(env, keys=[\"gripper_to_cube_pos\"])"
   ]
  },
  {
   "cell_type": "code",
   "execution_count": 446,
   "metadata": {},
   "outputs": [
    {
     "data": {
      "text/plain": [
       "(array([-0.07744673,  0.18435086,  0.21006734]), {})"
      ]
     },
     "execution_count": 446,
     "metadata": {},
     "output_type": "execute_result"
    }
   ],
   "source": [
    "env.reset()"
   ]
  },
  {
   "cell_type": "code",
   "execution_count": 419,
   "metadata": {},
   "outputs": [],
   "source": [
    "confs = env.robots[0].controller_config"
   ]
  },
  {
   "cell_type": "code",
   "execution_count": 423,
   "metadata": {},
   "outputs": [
    {
     "data": {
      "text/plain": [
       "{'type': 'IK_POSE',\n",
       " 'ik_pos_limit': 0.02,\n",
       " 'ik_ori_limit': 0.05,\n",
       " 'interpolation': None,\n",
       " 'ramp_ratio': 0.2,\n",
       " 'robot_name': 'Sawyer',\n",
       " 'sim': <robosuite.utils.binding_utils.MjSim at 0x17f6ccd50>,\n",
       " 'eef_name': 'gripper0_grip_site',\n",
       " 'eef_rot_offset': array([0.000000e+00, 0.000000e+00, 2.121315e-06, 9.999971e-01],\n",
       "       dtype=float32),\n",
       " 'joint_indexes': {'joints': [0, 1, 2, 3, 4, 5, 6],\n",
       "  'qpos': [0, 1, 2, 3, 4, 5, 6],\n",
       "  'qvel': [0, 1, 2, 3, 4, 5, 6]},\n",
       " 'actuator_range': (array([-80., -80., -40., -40.,  -9.,  -9.,  -9.]),\n",
       "  array([80., 80., 40., 40.,  9.,  9.,  9.])),\n",
       " 'policy_freq': 20,\n",
       " 'ndim': 7}"
      ]
     },
     "execution_count": 423,
     "metadata": {},
     "output_type": "execute_result"
    }
   ],
   "source": [
    "confs[\"sim\"] = env.sim\n",
    "confs"
   ]
  },
  {
   "cell_type": "code",
   "execution_count": 424,
   "metadata": {},
   "outputs": [],
   "source": [
    "ik_controller = controller_factory(\"IK_POSE\", confs)"
   ]
  },
  {
   "cell_type": "code",
   "execution_count": 425,
   "metadata": {},
   "outputs": [
    {
     "data": {
      "text/plain": [
       "[-0.10754177704665459,\n",
       " -2.1663595650083893,\n",
       " -0.5509163774798613,\n",
       " 1.07598198856192,\n",
       " -0.5267730709006938,\n",
       " 2.5078593983469455,\n",
       " -1.0134734127635965]"
      ]
     },
     "execution_count": 425,
     "metadata": {},
     "output_type": "execute_result"
    }
   ],
   "source": [
    "ik_controller.inverse_kinematics(obs[\"cube_pos\"], obs[\"robot0_eef_quat\"])"
   ]
  },
  {
   "cell_type": "code",
   "execution_count": 12,
   "metadata": {},
   "outputs": [],
   "source": [
    "config = load_controller_config(default_controller=\"OSC_POSE\")"
   ]
  },
  {
   "cell_type": "code",
   "execution_count": 14,
   "metadata": {},
   "outputs": [],
   "source": [
    "env = suite.make(\n",
    "    \"Lift\",\n",
    "    robots=[\"Sawyer\"],             # load a Sawyer robot and a Panda robot\n",
    "    gripper_types=\"RethinkGripper\",                # use default grippers per robot arm\n",
    "    has_renderer=True,                     # no on-screen rendering\n",
    "    controller_configs=config,\n",
    "    has_offscreen_renderer=False,           # no off-screen rendering\n",
    "    control_freq=20,                        # 20 hz control for applied actions\n",
    "    horizon=500,                            # each episode terminates after 200 steps\n",
    "    use_object_obs=True,                    # provide object observations to agent\n",
    "    use_camera_obs=False,                   # don't provide image observations to agent\n",
    "    reward_shaping=True,                    # use a dense reward signal for learning\n",
    ")\n",
    "# reset the environment\n",
    "obs = env.reset()"
   ]
  },
  {
   "cell_type": "code",
   "execution_count": 8,
   "metadata": {},
   "outputs": [
    {
     "data": {
      "text/plain": [
       "OrderedDict([('robot0_joint_pos_cos',\n",
       "              array([ 0.9999746 ,  0.35249722,  0.99970583, -0.59251601,  0.9999892 ,\n",
       "                      0.85536455,  0.00752312])),\n",
       "             ('robot0_joint_pos_sin',\n",
       "              array([ 0.00712695, -0.93581286, -0.02425391,  0.80555867, -0.0046473 ,\n",
       "                      0.51802652, -0.9999717 ])),\n",
       "             ('robot0_joint_vel', array([0., 0., 0., 0., 0., 0., 0.])),\n",
       "             ('robot0_eef_pos',\n",
       "              array([-0.15284223, -0.11473642,  1.02505057])),\n",
       "             ('robot0_eef_quat',\n",
       "              array([ 0.6499547 ,  0.75978549,  0.01578743, -0.00597099])),\n",
       "             ('robot0_gripper_qpos', array([ 0.020833, -0.020833])),\n",
       "             ('robot0_gripper_qvel', array([0., 0.])),\n",
       "             ('robot1_joint_pos_cos',\n",
       "              array([ 0.9996024 ,  0.38691254,  0.99999887, -0.58483674,  0.99991733,\n",
       "                      0.83640568,  0.02609517])),\n",
       "             ('robot1_joint_pos_sin',\n",
       "              array([-0.02819653, -0.92211642,  0.00150353,  0.81115102, -0.0128581 ,\n",
       "                      0.54811088, -0.99965946])),\n",
       "             ('robot1_joint_vel', array([0., 0., 0., 0., 0., 0., 0.])),\n",
       "             ('robot1_eef_pos', array([0.14685292, 0.12027828, 1.01278444])),\n",
       "             ('robot1_eef_quat',\n",
       "              array([ 0.75226751, -0.65866473, -0.01245843, -0.00995714])),\n",
       "             ('robot1_gripper_qpos', array([ 0.020833, -0.020833])),\n",
       "             ('robot1_gripper_qvel', array([0., 0.])),\n",
       "             ('pot_pos', array([0.0176458 , 0.01147413, 0.87      ])),\n",
       "             ('pot_quat',\n",
       "              array([ 0.        ,  0.        ,  0.97090161, -0.23947873])),\n",
       "             ('handle0_xpos', array([ 0.08972399, -0.12574735,  0.93      ])),\n",
       "             ('handle1_xpos', array([-0.05443239,  0.14869561,  0.93      ])),\n",
       "             ('gripper0_to_handle0',\n",
       "              array([ 0.24256622, -0.01101093, -0.09505057])),\n",
       "             ('gripper1_to_handle1',\n",
       "              array([-0.20128531,  0.02841733, -0.08278444])),\n",
       "             ('robot0_proprio-state',\n",
       "              array([ 0.9999746 ,  0.35249722,  0.99970583, -0.59251601,  0.9999892 ,\n",
       "                      0.85536455,  0.00752312,  0.00712695, -0.93581286, -0.02425391,\n",
       "                      0.80555867, -0.0046473 ,  0.51802652, -0.9999717 ,  0.        ,\n",
       "                      0.        ,  0.        ,  0.        ,  0.        ,  0.        ,\n",
       "                      0.        , -0.15284223, -0.11473642,  1.02505057,  0.6499547 ,\n",
       "                      0.75978549,  0.01578743, -0.00597099,  0.020833  , -0.020833  ,\n",
       "                      0.        ,  0.        ])),\n",
       "             ('robot1_proprio-state',\n",
       "              array([ 0.9996024 ,  0.38691254,  0.99999887, -0.58483674,  0.99991733,\n",
       "                      0.83640568,  0.02609517, -0.02819653, -0.92211642,  0.00150353,\n",
       "                      0.81115102, -0.0128581 ,  0.54811088, -0.99965946,  0.        ,\n",
       "                      0.        ,  0.        ,  0.        ,  0.        ,  0.        ,\n",
       "                      0.        ,  0.14685292,  0.12027828,  1.01278444,  0.75226751,\n",
       "                     -0.65866473, -0.01245843, -0.00995714,  0.020833  , -0.020833  ,\n",
       "                      0.        ,  0.        ])),\n",
       "             ('object-state',\n",
       "              array([ 0.0176458 ,  0.01147413,  0.87      ,  0.        ,  0.        ,\n",
       "                      0.97090161, -0.23947873,  0.08972399, -0.12574735,  0.93      ,\n",
       "                     -0.05443239,  0.14869561,  0.93      ,  0.24256622, -0.01101093,\n",
       "                     -0.09505057, -0.20128531,  0.02841733, -0.08278444]))])"
      ]
     },
     "execution_count": 8,
     "metadata": {},
     "output_type": "execute_result"
    }
   ],
   "source": [
    "obs\n"
   ]
  },
  {
   "cell_type": "code",
   "execution_count": 37,
   "metadata": {},
   "outputs": [
    {
     "ename": "",
     "evalue": "",
     "output_type": "error",
     "traceback": [
      "\u001b[1;31mThe Kernel crashed while executing code in the current cell or a previous cell. \n",
      "\u001b[1;31mPlease review the code in the cell(s) to identify a possible cause of the failure. \n",
      "\u001b[1;31mClick <a href='https://aka.ms/vscodeJupyterKernelCrash'>here</a> for more info. \n",
      "\u001b[1;31mView Jupyter <a href='command:jupyter.viewOutput'>log</a> for further details."
     ]
    }
   ],
   "source": [
    "env.step(np.array([0,0,0,0,0,0,20]))\n",
    "env.render()"
   ]
  },
  {
   "cell_type": "code",
   "execution_count": 21,
   "metadata": {},
   "outputs": [],
   "source": [
    "env.render()"
   ]
  },
  {
   "cell_type": "code",
   "execution_count": 436,
   "metadata": {},
   "outputs": [
    {
     "data": {
      "text/plain": [
       "(OrderedDict([('robot0_joint_pos_cos',\n",
       "               array([ 0.99990302,  0.37147634,  0.99821664, -0.56513353,  0.99990854,\n",
       "                       0.85357782,  0.06782048])),\n",
       "              ('robot0_joint_pos_sin',\n",
       "               array([ 0.01392677, -0.92844242, -0.05969543,  0.82499945,  0.01352464,\n",
       "                       0.52096536, -0.99769754])),\n",
       "              ('robot0_joint_vel',\n",
       "               array([ 0.00014479, -0.01343614, -0.13386812, -0.07865903,  0.11177316,\n",
       "                      -0.06367845,  0.09100006])),\n",
       "              ('robot0_eef_pos',\n",
       "               array([-0.10083337,  0.14285007,  1.02704525])),\n",
       "              ('robot0_eef_quat',\n",
       "               array([0.99937611, 0.02739031, 0.02040542, 0.00898816])),\n",
       "              ('robot0_gripper_qpos', array([ 0.01017439, -0.01021767])),\n",
       "              ('robot0_gripper_qvel', array([ 0.00353473, -0.00348081])),\n",
       "              ('cube_pos', array([-0.01919238,  0.01184027,  0.82015759])),\n",
       "              ('cube_quat',\n",
       "               array([-3.04257472e-17,  2.13832040e-17,  5.93864842e-01, -8.04564820e-01])),\n",
       "              ('gripper_to_cube_pos',\n",
       "               array([-0.081641  ,  0.13100979,  0.20688767])),\n",
       "              ('robot0_proprio-state',\n",
       "               array([ 9.99903018e-01,  3.71476336e-01,  9.98216638e-01, -5.65133528e-01,\n",
       "                       9.99908538e-01,  8.53577822e-01,  6.78204778e-02,  1.39267677e-02,\n",
       "                      -9.28442422e-01, -5.96954302e-02,  8.24999452e-01,  1.35246374e-02,\n",
       "                       5.20965356e-01, -9.97697541e-01,  1.44792701e-04, -1.34361382e-02,\n",
       "                      -1.33868117e-01, -7.86590298e-02,  1.11773160e-01, -6.36784472e-02,\n",
       "                       9.10000644e-02, -1.00833375e-01,  1.42850066e-01,  1.02704525e+00,\n",
       "                       9.99376107e-01,  2.73903092e-02,  2.04054164e-02,  8.98816183e-03,\n",
       "                       1.01743949e-02, -1.02176683e-02,  3.53472706e-03, -3.48081477e-03])),\n",
       "              ('object-state',\n",
       "               array([-1.91923753e-02,  1.18402736e-02,  8.20157587e-01, -3.04257472e-17,\n",
       "                       2.13832040e-17,  5.93864842e-01, -8.04564820e-01, -8.16409995e-02,\n",
       "                       1.31009792e-01,  2.06887665e-01]))]),\n",
       " 0.00506145009192776,\n",
       " False,\n",
       " {})"
      ]
     },
     "execution_count": 436,
     "metadata": {},
     "output_type": "execute_result"
    }
   ],
   "source": [
    "env.step(np.array([0,-0.10754177704665459,\n",
    " -2.1663595650083893,\n",
    " -0.5509163774798613,\n",
    " 1.07598198856192,\n",
    " -0.5267730709006938,\n",
    " 2.5078593983469455,\n",
    " -1.0134734127635965]))"
   ]
  },
  {
   "cell_type": "code",
   "execution_count": 451,
   "metadata": {},
   "outputs": [
    {
     "data": {
      "text/plain": [
       "8"
      ]
     },
     "execution_count": 451,
     "metadata": {},
     "output_type": "execute_result"
    }
   ],
   "source": [
    "env.action_dim"
   ]
  },
  {
   "cell_type": "code",
   "execution_count": null,
   "metadata": {},
   "outputs": [
    {
     "data": {
      "text/plain": [
       "<robosuite.robots.single_arm.SingleArm at 0x281417590>"
      ]
     },
     "execution_count": 33,
     "metadata": {},
     "output_type": "execute_result"
    }
   ],
   "source": [
    "env.robots[0]"
   ]
  },
  {
   "cell_type": "code",
   "execution_count": null,
   "metadata": {},
   "outputs": [
    {
     "data": {
      "text/plain": [
       "numpy.ndarray"
      ]
     },
     "execution_count": 54,
     "metadata": {},
     "output_type": "execute_result"
    }
   ],
   "source": [
    "type(env.robots[0].action_limits[0])"
   ]
  }
 ],
 "metadata": {
  "kernelspec": {
   "display_name": "Python 3",
   "language": "python",
   "name": "python3"
  },
  "language_info": {
   "codemirror_mode": {
    "name": "ipython",
    "version": 3
   },
   "file_extension": ".py",
   "mimetype": "text/x-python",
   "name": "python",
   "nbconvert_exporter": "python",
   "pygments_lexer": "ipython3",
   "version": "3.11.0"
  }
 },
 "nbformat": 4,
 "nbformat_minor": 2
}
